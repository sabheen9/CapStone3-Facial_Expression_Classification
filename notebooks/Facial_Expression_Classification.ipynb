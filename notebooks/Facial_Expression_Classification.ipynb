{
 "cells": [
  {
   "cell_type": "markdown",
   "metadata": {},
   "source": [
    "### **<font color='teal'> 1. Sourcing and Loading the Data </font>**"
   ]
  },
  {
   "cell_type": "markdown",
   "metadata": {},
   "source": [
    "##### **<font color='teal'> 1.1. Importing Libraries </font>**"
   ]
  },
  {
   "cell_type": "code",
   "execution_count": 3,
   "metadata": {},
   "outputs": [],
   "source": [
    "#!pip install tensorflow"
   ]
  },
  {
   "cell_type": "code",
   "execution_count": 4,
   "metadata": {},
   "outputs": [
    {
     "data": {
      "text/plain": [
       "'2.14.0'"
      ]
     },
     "execution_count": 4,
     "metadata": {},
     "output_type": "execute_result"
    }
   ],
   "source": [
    "# Importing and checking the version of Tensor Flow.\n",
    "import tensorflow as tf\n",
    "tf.version.VERSION"
   ]
  },
  {
   "cell_type": "code",
   "execution_count": 5,
   "metadata": {},
   "outputs": [],
   "source": [
    "import cv2\n",
    "import pandas as pd\n",
    "import seaborn as sns\n",
    "import matplotlib.pyplot as plt\n",
    "import numpy as np\n",
    "import os\n",
    "import PIL\n",
    "from tensorflow.keras import layers\n",
    "import pickle\n",
    "from tensorflow.python.keras import *\n",
    "from tensorflow.keras.preprocessing.image import ImageDataGenerator\n",
    "from tensorflow.keras import layers, optimizers\n",
    "from tensorflow.keras.applications import DenseNet121\n",
    "from tensorflow.keras.applications.resnet50 import ResNet50\n",
    "from tensorflow.keras.layers import *\n",
    "from tensorflow.keras.models import Model, load_model\n",
    "from tensorflow.keras.initializers import glorot_uniform\n",
    "from tensorflow.keras.utils import plot_model\n",
    "from tensorflow.keras.callbacks import ReduceLROnPlateau, EarlyStopping, ModelCheckpoint, LearningRateScheduler\n",
    "from IPython.display import display\n",
    "from tensorflow.keras import backend as K\n",
    "from scipy import ndimage\n",
    "import cv2  # OpenCV for flipping and scaling\n",
    "\n",
    "#from jupyterthemes import jtplot\n",
    "#jtplot.style(theme='monokai', context='notebook', ticks=True, grid=False) "
   ]
  },
  {
   "cell_type": "markdown",
   "metadata": {},
   "source": [
    "##### **<font color='teal'> 1.2. Loading the data </font>**"
   ]
  },
  {
   "cell_type": "code",
   "execution_count": 6,
   "metadata": {},
   "outputs": [
    {
     "data": {
      "text/html": [
       "<div>\n",
       "<style scoped>\n",
       "    .dataframe tbody tr th:only-of-type {\n",
       "        vertical-align: middle;\n",
       "    }\n",
       "\n",
       "    .dataframe tbody tr th {\n",
       "        vertical-align: top;\n",
       "    }\n",
       "\n",
       "    .dataframe thead th {\n",
       "        text-align: right;\n",
       "    }\n",
       "</style>\n",
       "<table border=\"1\" class=\"dataframe\">\n",
       "  <thead>\n",
       "    <tr style=\"text-align: right;\">\n",
       "      <th></th>\n",
       "      <th>emotion</th>\n",
       "      <th>pixels</th>\n",
       "    </tr>\n",
       "  </thead>\n",
       "  <tbody>\n",
       "    <tr>\n",
       "      <th>0</th>\n",
       "      <td>0</td>\n",
       "      <td>70 80 82 72 58 58 60 63 54 58 60 48 89 115 121...</td>\n",
       "    </tr>\n",
       "    <tr>\n",
       "      <th>1</th>\n",
       "      <td>0</td>\n",
       "      <td>151 150 147 155 148 133 111 140 170 174 182 15...</td>\n",
       "    </tr>\n",
       "    <tr>\n",
       "      <th>2</th>\n",
       "      <td>2</td>\n",
       "      <td>24 32 36 30 32 23 19 20 30 41 21 22 32 34 21 1...</td>\n",
       "    </tr>\n",
       "    <tr>\n",
       "      <th>3</th>\n",
       "      <td>2</td>\n",
       "      <td>20 17 19 21 25 38 42 42 46 54 56 62 63 66 82 1...</td>\n",
       "    </tr>\n",
       "    <tr>\n",
       "      <th>4</th>\n",
       "      <td>3</td>\n",
       "      <td>77 78 79 79 78 75 60 55 47 48 58 73 77 79 57 5...</td>\n",
       "    </tr>\n",
       "    <tr>\n",
       "      <th>...</th>\n",
       "      <td>...</td>\n",
       "      <td>...</td>\n",
       "    </tr>\n",
       "    <tr>\n",
       "      <th>24563</th>\n",
       "      <td>3</td>\n",
       "      <td>0 39 81 80 104 97 51 64 68 46 41 67 53 68 70 5...</td>\n",
       "    </tr>\n",
       "    <tr>\n",
       "      <th>24564</th>\n",
       "      <td>0</td>\n",
       "      <td>181 177 176 156 178 144 136 132 122 107 131 16...</td>\n",
       "    </tr>\n",
       "    <tr>\n",
       "      <th>24565</th>\n",
       "      <td>3</td>\n",
       "      <td>178 174 172 173 181 188 191 194 196 199 200 20...</td>\n",
       "    </tr>\n",
       "    <tr>\n",
       "      <th>24566</th>\n",
       "      <td>0</td>\n",
       "      <td>17 17 16 23 28 22 19 17 25 26 20 24 31 19 27 9...</td>\n",
       "    </tr>\n",
       "    <tr>\n",
       "      <th>24567</th>\n",
       "      <td>3</td>\n",
       "      <td>30 28 28 29 31 30 42 68 79 81 77 67 67 71 63 6...</td>\n",
       "    </tr>\n",
       "  </tbody>\n",
       "</table>\n",
       "<p>24568 rows × 2 columns</p>\n",
       "</div>"
      ],
      "text/plain": [
       "       emotion                                             pixels\n",
       "0            0  70 80 82 72 58 58 60 63 54 58 60 48 89 115 121...\n",
       "1            0  151 150 147 155 148 133 111 140 170 174 182 15...\n",
       "2            2  24 32 36 30 32 23 19 20 30 41 21 22 32 34 21 1...\n",
       "3            2  20 17 19 21 25 38 42 42 46 54 56 62 63 66 82 1...\n",
       "4            3  77 78 79 79 78 75 60 55 47 48 58 73 77 79 57 5...\n",
       "...        ...                                                ...\n",
       "24563        3  0 39 81 80 104 97 51 64 68 46 41 67 53 68 70 5...\n",
       "24564        0  181 177 176 156 178 144 136 132 122 107 131 16...\n",
       "24565        3  178 174 172 173 181 188 191 194 196 199 200 20...\n",
       "24566        0  17 17 16 23 28 22 19 17 25 26 20 24 31 19 27 9...\n",
       "24567        3  30 28 28 29 31 30 42 68 79 81 77 67 67 71 63 6...\n",
       "\n",
       "[24568 rows x 2 columns]"
      ]
     },
     "execution_count": 6,
     "metadata": {},
     "output_type": "execute_result"
    }
   ],
   "source": [
    "# Reading and checking the CSV file\n",
    "df=pd.read_csv(\"../data/emotion.csv\")\n",
    "df"
   ]
  },
  {
   "cell_type": "markdown",
   "metadata": {},
   "source": [
    "### **<font color='teal'> 2. Exploring the Data </font>**"
   ]
  },
  {
   "cell_type": "markdown",
   "metadata": {},
   "source": [
    "##### **<font color='teal'> 2.1. Renaming Column Name </font>**"
   ]
  },
  {
   "cell_type": "code",
   "execution_count": 7,
   "metadata": {},
   "outputs": [],
   "source": [
    "# 'pixels' column has space in the csv file so we are removing that space .\n",
    "df = df.rename(columns={' pixels': 'pixels'})"
   ]
  },
  {
   "cell_type": "code",
   "execution_count": 8,
   "metadata": {},
   "outputs": [
    {
     "data": {
      "text/plain": [
       "'24 32 36 30 32 23 19 20 30 41 21 22 32 34 21 19 43 52 13 26 40 59 65 12 20 63 99 98 98 111 75 62 41 73 118 140 192 186 187 188 190 190 187 182 176 173 172 173 25 34 29 35 29 26 20 23 19 31 22 21 20 31 26 17 34 75 37 18 38 80 85 25 38 26 34 97 94 76 86 95 70 39 98 129 185 188 188 189 190 190 188 182 176 173 172 173 26 29 25 35 25 30 20 21 16 28 34 26 15 17 19 22 29 62 64 47 45 76 76 78 65 82 12 14 56 56 72 74 66 65 86 129 172 190 187 189 190 190 187 182 177 172 172 174 26 33 32 31 25 33 26 21 16 16 37 27 14 15 12 17 31 38 40 58 73 59 35 82 68 72 43 22 33 52 51 66 71 57 71 121 160 191 188 189 190 190 187 184 178 173 173 174 29 40 29 29 32 32 28 26 19 13 23 34 17 18 14 15 26 25 21 40 82 44 29 34 36 32 36 59 55 38 46 64 71 62 60 107 137 191 189 190 190 190 188 184 178 175 173 175 33 39 25 33 37 33 25 30 20 18 18 23 20 22 20 17 33 20 18 25 37 31 22 29 28 24 29 38 67 38 35 75 68 66 58 89 110 179 191 189 189 190 187 184 179 175 173 174 32 41 32 31 39 33 26 34 27 23 28 30 21 24 29 22 26 23 21 22 33 28 28 26 28 23 27 21 61 53 24 72 78 64 54 84 94 155 195 189 191 190 188 184 179 174 172 173 28 46 40 29 42 34 31 39 37 30 33 33 28 23 30 31 24 19 17 18 27 25 27 23 25 24 23 13 40 69 29 45 74 74 59 88 88 145 196 188 191 191 188 183 178 174 172 174 27 44 42 35 42 34 39 40 41 37 33 33 34 31 32 35 32 19 19 18 16 17 22 21 23 25 22 14 30 74 36 32 62 75 59 89 94 139 194 188 191 191 187 184 179 174 173 174 28 38 38 42 41 36 51 44 37 40 35 33 29 38 38 43 39 28 23 19 22 24 26 27 26 29 21 17 37 75 31 32 49 55 57 102 108 138 193 189 191 192 189 184 180 176 174 174 29 33 30 34 41 39 46 45 37 38 38 34 28 39 41 44 36 37 28 29 32 34 35 34 33 33 27 23 39 72 28 22 44 70 82 127 100 137 194 189 190 189 188 185 181 176 174 176 29 32 28 24 40 35 35 30 30 31 38 29 31 37 30 34 30 41 52 57 58 56 53 45 50 40 46 24 30 60 27 64 120 130 141 139 85 149 194 187 189 188 187 185 181 177 175 176 34 24 33 27 26 27 27 21 24 28 34 27 33 30 23 26 27 52 91 125 125 119 100 89 88 84 66 24 48 57 89 137 155 159 175 155 105 173 193 189 189 189 187 185 181 177 175 176 33 74 146 130 75 24 23 20 20 23 26 24 27 24 24 31 60 118 156 158 156 155 141 135 131 108 42 68 73 97 140 146 164 178 186 191 156 185 189 189 188 188 186 184 180 177 175 176 45 121 121 162 155 61 17 22 21 23 22 21 21 24 29 62 127 165 170 163 166 159 144 128 103 53 67 99 90 129 148 153 175 195 201 180 174 188 187 188 188 187 186 184 180 177 176 176 64 105 116 165 150 143 45 17 19 23 23 22 23 25 52 122 166 171 172 174 169 160 152 128 91 97 124 119 123 144 151 157 179 177 143 154 184 187 188 189 189 187 186 183 180 177 176 176 125 93 150 159 133 143 106 33 49 27 24 25 23 44 120 166 170 165 159 142 132 120 117 119 129 131 128 132 135 142 146 158 144 94 131 185 185 186 187 188 189 187 185 183 179 176 175 176 201 82 161 117 85 143 158 109 119 67 21 39 86 132 168 173 171 167 161 148 134 123 102 89 100 102 97 108 124 131 152 118 75 138 131 170 185 186 187 188 189 187 185 183 178 175 175 175 225 80 130 122 84 146 145 162 159 129 31 94 168 172 170 170 167 162 143 117 112 77 50 47 65 100 127 135 129 137 157 56 73 168 181 180 185 187 188 189 189 187 184 181 178 174 173 175 217 80 78 165 127 109 119 169 173 163 108 138 172 168 172 171 165 158 140 101 65 43 44 56 38 95 141 160 146 166 142 62 116 171 198 180 185 186 188 188 187 186 183 181 177 174 173 175 194 64 36 127 178 168 113 132 172 166 153 158 170 170 171 173 171 168 165 161 139 96 72 69 53 111 163 170 155 163 187 143 162 205 204 180 186 187 188 188 187 185 184 181 177 174 173 175 144 55 54 51 146 177 158 154 173 169 160 165 168 161 145 136 164 172 167 153 137 132 117 90 85 134 168 176 162 160 212 197 188 208 203 182 188 187 189 189 187 186 184 181 177 174 173 175 127 79 91 61 47 157 160 166 161 164 160 154 148 153 146 105 131 154 146 145 128 108 118 104 114 127 156 166 156 163 207 190 185 207 194 181 183 185 180 180 184 181 183 180 176 174 172 174 136 102 122 138 60 73 130 139 138 153 137 142 122 135 140 114 89 144 117 108 116 110 110 103 97 107 142 145 139 151 202 157 159 189 167 175 162 172 158 161 159 171 186 181 177 173 173 174 153 136 152 203 144 60 110 128 142 143 137 141 130 125 138 122 73 141 138 121 82 131 108 94 95 113 137 150 150 151 201 147 145 185 172 163 160 161 158 169 164 179 184 180 176 172 172 173 163 167 189 211 200 74 106 158 143 153 158 145 140 145 158 133 70 135 142 145 80 114 128 104 97 125 154 155 169 165 193 196 154 204 194 172 186 179 180 181 180 183 182 180 175 172 171 174 182 200 209 210 215 126 96 166 162 163 165 166 150 146 182 165 78 134 170 168 75 88 125 109 95 138 161 168 177 165 172 200 182 209 195 187 188 190 189 188 187 185 182 179 175 171 171 172 204 206 211 213 215 177 80 152 158 159 160 170 162 141 178 169 92 130 182 174 84 65 109 109 89 137 149 151 153 137 143 178 190 209 185 182 187 186 185 185 185 183 181 177 173 170 170 171 206 209 211 213 213 202 117 123 161 153 154 172 170 143 173 169 111 131 182 177 106 51 91 109 112 109 111 132 140 150 198 209 203 215 207 190 182 184 185 185 184 183 182 178 174 170 169 170 206 209 211 214 213 208 169 100 150 147 145 166 172 143 171 171 124 135 178 174 128 45 76 109 127 136 144 164 182 190 202 215 218 178 200 226 211 192 181 184 184 183 182 179 174 169 167 168 210 209 210 214 214 210 196 112 118 149 138 159 171 138 159 164 123 139 176 169 149 45 64 117 144 155 172 199 200 201 199 226 193 157 165 189 217 231 208 181 179 180 180 177 172 169 166 167 211 210 210 213 214 212 205 156 81 137 136 144 157 136 136 149 135 142 176 161 181 80 35 84 118 147 178 186 188 146 129 194 141 149 124 105 145 192 232 211 178 180 181 178 172 169 165 166 209 212 210 211 214 213 207 191 98 87 135 128 143 151 135 151 150 137 158 142 159 146 50 38 76 160 166 160 156 78 135 129 116 124 60 70 97 146 206 225 180 177 178 177 172 168 164 165 197 211 211 210 211 213 209 200 155 60 95 117 126 155 147 136 150 141 143 147 132 130 103 110 166 180 161 159 123 83 136 82 122 50 33 80 131 170 198 213 179 177 178 177 172 168 164 165 181 191 217 209 209 211 208 202 184 104 51 92 100 126 151 144 157 155 152 157 133 107 111 154 176 171 154 160 106 55 50 78 104 25 41 94 145 186 208 201 178 179 179 178 173 167 163 163 180 159 205 211 208 209 207 201 187 151 64 55 85 94 139 156 164 157 160 167 151 129 138 170 172 159 153 164 74 35 52 90 57 22 82 154 172 181 209 192 176 178 177 177 173 167 162 162 153 160 171 209 207 207 206 200 190 167 109 47 65 78 115 158 166 162 159 168 159 146 162 172 167 141 165 149 19 30 41 54 35 62 146 170 178 191 209 184 176 178 177 178 174 167 161 161 160 163 141 183 208 204 204 199 188 173 140 74 54 73 94 156 170 167 162 166 158 155 169 169 151 138 176 161 20 28 48 52 46 124 167 179 184 201 205 179 178 177 177 176 173 165 160 158 157 169 141 140 198 202 201 200 187 173 151 111 68 79 92 148 170 167 166 168 163 162 170 161 151 157 179 187 36 34 42 46 98 141 163 179 182 201 196 175 177 176 175 175 172 165 159 156 118 164 162 115 164 202 198 201 191 177 158 133 99 101 126 154 163 168 167 169 163 164 166 162 165 162 171 202 67 43 51 99 139 149 161 166 174 195 187 176 177 176 176 175 171 165 158 153 101 133 171 130 118 183 196 199 195 184 166 150 127 131 162 168 162 166 166 167 163 165 164 164 165 159 167 204 96 54 94 128 138 156 166 165 172 191 179 176 176 176 174 173 170 164 157 151 118 103 147 156 105 145 192 196 195 188 178 171 145 151 181 171 164 167 170 168 164 168 167 164 162 156 163 202 122 76 99 103 129 151 156 166 183 194 173 174 173 173 173 173 170 164 156 152 135 106 109 151 129 112 174 189 192 190 188 181 166 145 175 171 148 166 169 169 167 166 167 164 162 158 162 198 142 89 95 95 119 141 148 163 197 194 170 172 172 172 172 171 169 165 158 152 157 131 95 119 143 109 140 181 184 188 187 184 176 155 144 158 128 158 170 169 169 167 167 165 165 161 160 193 173 98 101 103 116 132 138 164 206 190 164 168 167 168 169 168 166 163 157 152 184 160 119 94 125 127 111 163 174 182 184 183 180 168 147 149 119 146 171 168 169 168 169 169 168 161 155 183 216 120 102 101 110 128 130 150 203 183 156 163 163 163 164 165 163 161 157 151 159 185 157 107 99 128 114 132 167 173 179 179 178 171 159 158 156 146 169 169 169 170 169 167 169 167 164 183 235 162 105 105 105 126 137 149 198 199 150 156 157 157 159 160 160 157 156 153 136 157 187 152 104 109 124 115 147 163 170 172 173 170 163 160 172 177 168 170 168 170 168 170 173 177 188 198 232 202 116 108 108 124 138 147 185 219 157 140 144 144 146 147 151 152 152 150 145 130 161 184 141 105 118 119 124 150 161 167 169 167 162 164 169 181 172 168 169 170 174 179 180 182 196 208 226 230 140 113 114 125 135 141 172 214 174 126 132 132 133 136 139 142 143 142'"
      ]
     },
     "execution_count": 8,
     "metadata": {},
     "output_type": "execute_result"
    }
   ],
   "source": [
    "df['pixels'][2]"
   ]
  },
  {
   "cell_type": "markdown",
   "metadata": {},
   "source": [
    "##### **<font color='teal'> 2.2. Converting pixel values in string format to array format </font>**"
   ]
  },
  {
   "cell_type": "code",
   "execution_count": 9,
   "metadata": {},
   "outputs": [],
   "source": [
    "# function to convert pixel values in string format to array format\n",
    "def string2array(x):\n",
    "  return np.array(x.split(' ')).reshape(48, 48, 1).astype('float32')"
   ]
  },
  {
   "cell_type": "code",
   "execution_count": 10,
   "metadata": {},
   "outputs": [],
   "source": [
    "df['pixels'] = df['pixels'].apply(lambda x: string2array(x))"
   ]
  },
  {
   "cell_type": "code",
   "execution_count": 11,
   "metadata": {},
   "outputs": [
    {
     "data": {
      "text/plain": [
       "numpy.ndarray"
      ]
     },
     "execution_count": 11,
     "metadata": {},
     "output_type": "execute_result"
    }
   ],
   "source": [
    "type(df['pixels'][2])"
   ]
  },
  {
   "cell_type": "code",
   "execution_count": 12,
   "metadata": {},
   "outputs": [
    {
     "data": {
      "text/plain": [
       "(48, 48, 1)"
      ]
     },
     "execution_count": 12,
     "metadata": {},
     "output_type": "execute_result"
    }
   ],
   "source": [
    "df['pixels'][2].shape"
   ]
  },
  {
   "cell_type": "code",
   "execution_count": 13,
   "metadata": {},
   "outputs": [
    {
     "data": {
      "text/plain": [
       "<matplotlib.image.AxesImage at 0x2292ab75690>"
      ]
     },
     "execution_count": 13,
     "metadata": {},
     "output_type": "execute_result"
    },
    {
     "data": {
      "image/png": "[encoded data removed]",
      "text/plain": [
       "<Figure size 640x480 with 1 Axes>"
      ]
     },
     "metadata": {},
     "output_type": "display_data"
    }
   ],
   "source": [
    "# Visualizing the first image within the dataframe ,just to make sure that the reshaping process does not cause distortion.\n",
    "plt.imshow(df['pixels'][0].squeeze(),cmap='gray')"
   ]
  },
  {
   "cell_type": "markdown",
   "metadata": {},
   "source": [
    "##### **<font color='teal'> 2.3. Checking for Null Values </font>**"
   ]
  },
  {
   "cell_type": "code",
   "execution_count": 14,
   "metadata": {},
   "outputs": [
    {
     "data": {
      "text/plain": [
       "emotion    0\n",
       "pixels     0\n",
       "dtype: int64"
      ]
     },
     "execution_count": 14,
     "metadata": {},
     "output_type": "execute_result"
    }
   ],
   "source": [
    "df.isna().sum()"
   ]
  },
  {
   "cell_type": "code",
   "execution_count": 15,
   "metadata": {},
   "outputs": [],
   "source": [
    "emotions = {0: 'Angry', 1: 'Disgust', 2: 'Fear', 3: 'Happy', 4: 'Sad'}"
   ]
  },
  {
   "cell_type": "markdown",
   "metadata": {},
   "source": [
    "##### **<font color='teal'> 2.4. Checking No of Samples in each Emotion </font>**"
   ]
  },
  {
   "cell_type": "code",
   "execution_count": 16,
   "metadata": {},
   "outputs": [
    {
     "data": {
      "text/html": [
       "<div>\n",
       "<style scoped>\n",
       "    .dataframe tbody tr th:only-of-type {\n",
       "        vertical-align: middle;\n",
       "    }\n",
       "\n",
       "    .dataframe tbody tr th {\n",
       "        vertical-align: top;\n",
       "    }\n",
       "\n",
       "    .dataframe thead th {\n",
       "        text-align: right;\n",
       "    }\n",
       "</style>\n",
       "<table border=\"1\" class=\"dataframe\">\n",
       "  <thead>\n",
       "    <tr style=\"text-align: right;\">\n",
       "      <th></th>\n",
       "      <th>Count</th>\n",
       "      <th>Distribution</th>\n",
       "    </tr>\n",
       "  </thead>\n",
       "  <tbody>\n",
       "    <tr>\n",
       "      <th>Happy</th>\n",
       "      <td>8989</td>\n",
       "      <td>36.588245</td>\n",
       "    </tr>\n",
       "    <tr>\n",
       "      <th>Fear</th>\n",
       "      <td>6077</td>\n",
       "      <td>24.735428</td>\n",
       "    </tr>\n",
       "    <tr>\n",
       "      <th>Angry</th>\n",
       "      <td>4953</td>\n",
       "      <td>20.160371</td>\n",
       "    </tr>\n",
       "    <tr>\n",
       "      <th>Sad</th>\n",
       "      <td>4002</td>\n",
       "      <td>16.289482</td>\n",
       "    </tr>\n",
       "    <tr>\n",
       "      <th>Disgust</th>\n",
       "      <td>547</td>\n",
       "      <td>2.226473</td>\n",
       "    </tr>\n",
       "  </tbody>\n",
       "</table>\n",
       "</div>"
      ],
      "text/plain": [
       "         Count  Distribution\n",
       "Happy     8989     36.588245\n",
       "Fear      6077     24.735428\n",
       "Angry     4953     20.160371\n",
       "Sad       4002     16.289482\n",
       "Disgust    547      2.226473"
      ]
     },
     "execution_count": 16,
     "metadata": {},
     "output_type": "execute_result"
    }
   ],
   "source": [
    "a= df['emotion'].value_counts().rename('Count')\n",
    "b= (df['emotion'].value_counts(normalize = True)*100).rename('Distribution')\n",
    "temp=pd.concat([a,b], axis = 1)\n",
    "temp.index = ['Happy','Fear','Angry','Sad','Disgust']\n",
    "temp"
   ]
  },
  {
   "cell_type": "code",
   "execution_count": 17,
   "metadata": {},
   "outputs": [
    {
     "data": {
      "image/png": "[encoded data removed]",
      "text/plain": [
       "<Figure size 640x480 with 1 Axes>"
      ]
     },
     "metadata": {},
     "output_type": "display_data"
    }
   ],
   "source": [
    "temp.plot(y='Count', kind='bar', legend=False,color='red')  # Plot the 'Count' column as a bar chart\n",
    "\n",
    "# Set the title and labels\n",
    "plt.title('Emotion Counts')\n",
    "plt.xlabel('Emotion')\n",
    "plt.ylabel('Count')\n",
    "\n",
    "# Display the plot\n",
    "plt.show()"
   ]
  },
  {
   "cell_type": "markdown",
   "metadata": {},
   "source": [
    "**<font color='blue'> We can clearly see that the data is Imbalanced </font>**\n",
    "\n",
    "**<font color='blue'> We will then apply data augmentation Techniques to balance the data  </font>**"
   ]
  },
  {
   "cell_type": "markdown",
   "metadata": {},
   "source": [
    "##### **<font color='teal'> 2.5. Checking a Sample in each Emotion </font>**"
   ]
  },
  {
   "cell_type": "code",
   "execution_count": 32,
   "metadata": {},
   "outputs": [
    {
     "data": {
      "image/png": "[encoded data removed]",
      "text/plain": [
       "<Figure size 640x480 with 1 Axes>"
      ]
     },
     "metadata": {},
     "output_type": "display_data"
    },
    {
     "data": {
      "image/png": "[encoded data removed]",
      "text/plain": [
       "<Figure size 640x480 with 1 Axes>"
      ]
     },
     "metadata": {},
     "output_type": "display_data"
    },
    {
     "data": {
      "image/png": "[encoded data removed]",
      "text/plain": [
       "<Figure size 640x480 with 1 Axes>"
      ]
     },
     "metadata": {},
     "output_type": "display_data"
    },
    {
     "data": {
      "image/png": "[encoded data removed]",
      "text/plain": [
       "<Figure size 640x480 with 1 Axes>"
      ]
     },
     "metadata": {},
     "output_type": "display_data"
    },
    {
     "data": {
      "image/png": "[encoded data removed]",
      "text/plain": [
       "<Figure size 640x480 with 1 Axes>"
      ]
     },
     "metadata": {},
     "output_type": "display_data"
    }
   ],
   "source": [
    "emotions_labels = {0: 'Angry', 1: 'Disgust', 2: 'Fear', 3: 'Happy', 4: 'Sad'}\n",
    "emotions = [0,1,2,3,4]\n",
    "\n",
    "for i in emotions:\n",
    "  data = df[df['emotion'] == i][:1]\n",
    "  img = data['pixels'].item()\n",
    "  img = img.reshape(48,48)\n",
    "  plt.figure()\n",
    "  plt.title(emotions_labels[i])\n",
    "  plt.imshow(img, cmap= 'gray')"
   ]
  },
  {
   "cell_type": "markdown",
   "metadata": {},
   "source": [
    "### **<font color='teal'> 3. Image Augmentation </font>**"
   ]
  },
  {
   "cell_type": "markdown",
   "metadata": {},
   "source": [
    "**<font color='blue'>Image augmentation is a technique used in machine learning and computer vision to artificially increase the size of a training dataset by applying various transformations to the original data. These transformations include operations like rotating, flipping, scaling, cropping, adjusting brightness or contrast, and more. Data augmentation is commonly used when training machine learning models, particularly deep learning models for image classification, object detection, and other tasks. By applying these transformations to the existing data, the model becomes more robust and generalizes better to real-world scenarios, as it has learned to recognize objects or patterns from various perspectives and conditions.</font>**"
   ]
  },
  {
   "cell_type": "markdown",
   "metadata": {},
   "source": [
    "![Alt text](image.png)"
   ]
  },
  {
   "cell_type": "markdown",
   "metadata": {},
   "source": [
    "##### **<font color='teal'> 3.1. Creating Image Augmentation Function </font>**"
   ]
  },
  {
   "cell_type": "code",
   "execution_count": 19,
   "metadata": {},
   "outputs": [],
   "source": [
    "def image_augmentation(augmentation_num,Images,emotion_label):\n",
    "    # Define the number of augmented images you want per input image\n",
    "    num_augmentations = augmentation_num\n",
    "\n",
    "    # Create an array to store augmented images\n",
    "    augmented_images = []\n",
    "\n",
    "    # Loop through each input image\n",
    "    for image in Images:\n",
    "        # Ensure that each image has a consistent shape (48, 48)\n",
    "        image = image.reshape(48, 48,1)\n",
    "\n",
    "        for _ in range(num_augmentations):\n",
    "            # Rotate the image by a random angle between -20 and 20 degrees\n",
    "            rotated_image = ndimage.rotate(image, np.random.uniform(-20, 20), reshape=False)\n",
    "\n",
    "            # Flip the image horizontally (left to right) with a 50% probability\n",
    "            if np.random.choice([True, False]):\n",
    "                rotated_image = np.fliplr(rotated_image)\n",
    "            \n",
    "            # Append the augmented image to the list\n",
    "            augmented_images.append(rotated_image)\n",
    "\n",
    "    \n",
    "    # Create a DataFrame for the augmented data\n",
    "    augmented_df = pd.DataFrame({'emotion': emotion_label, 'pixels': augmented_images})\n",
    "    return augmented_df\n",
    "            \n",
    "\n"
   ]
  },
  {
   "cell_type": "markdown",
   "metadata": {},
   "source": [
    "**<font color='blue'> Data Augmentation for Disgust Images </font>**"
   ]
  },
  {
   "cell_type": "code",
   "execution_count": 20,
   "metadata": {},
   "outputs": [],
   "source": [
    "disgust_images=df[df['emotion']==1]\n",
    "augmented_disgust=image_augmentation(15,disgust_images['pixels'],1)\n",
    "df = pd.concat([df, augmented_disgust], ignore_index=True)\n"
   ]
  },
  {
   "cell_type": "markdown",
   "metadata": {},
   "source": [
    "**<font color='blue'> Data Augmentation for Sad Images </font>**"
   ]
  },
  {
   "cell_type": "code",
   "execution_count": 21,
   "metadata": {},
   "outputs": [],
   "source": [
    "sad_images=df[df['emotion']==4]\n",
    "augmented_sad=image_augmentation(1,sad_images['pixels'],4)\n",
    "df = pd.concat([df, augmented_sad], ignore_index=True)"
   ]
  },
  {
   "cell_type": "markdown",
   "metadata": {},
   "source": [
    "**<font color='blue'> Data Augmentation for Angry Images </font>**"
   ]
  },
  {
   "cell_type": "code",
   "execution_count": 22,
   "metadata": {},
   "outputs": [],
   "source": [
    "angry_images=df[df['emotion']==0]\n",
    "augmented_angry=image_augmentation(1,angry_images['pixels'],0)\n",
    "df = pd.concat([df, augmented_angry], ignore_index=True)"
   ]
  },
  {
   "cell_type": "code",
   "execution_count": 23,
   "metadata": {},
   "outputs": [
    {
     "data": {
      "text/html": [
       "<div>\n",
       "<style scoped>\n",
       "    .dataframe tbody tr th:only-of-type {\n",
       "        vertical-align: middle;\n",
       "    }\n",
       "\n",
       "    .dataframe tbody tr th {\n",
       "        vertical-align: top;\n",
       "    }\n",
       "\n",
       "    .dataframe thead th {\n",
       "        text-align: right;\n",
       "    }\n",
       "</style>\n",
       "<table border=\"1\" class=\"dataframe\">\n",
       "  <thead>\n",
       "    <tr style=\"text-align: right;\">\n",
       "      <th></th>\n",
       "      <th>emotion</th>\n",
       "      <th>pixels</th>\n",
       "    </tr>\n",
       "  </thead>\n",
       "  <tbody>\n",
       "    <tr>\n",
       "      <th>41723</th>\n",
       "      <td>0</td>\n",
       "      <td>[[[0.0], [0.0], [0.0], [0.0], [0.0], [210.3774...</td>\n",
       "    </tr>\n",
       "    <tr>\n",
       "      <th>41724</th>\n",
       "      <td>0</td>\n",
       "      <td>[[[0.0], [0.0], [0.0], [0.0], [0.0], [0.0], [0...</td>\n",
       "    </tr>\n",
       "    <tr>\n",
       "      <th>41725</th>\n",
       "      <td>0</td>\n",
       "      <td>[[[0.0], [0.0], [0.0], [0.0], [0.0], [0.0], [0...</td>\n",
       "    </tr>\n",
       "    <tr>\n",
       "      <th>41726</th>\n",
       "      <td>0</td>\n",
       "      <td>[[[0.0], [0.0], [0.0], [0.0], [0.0], [0.0], [0...</td>\n",
       "    </tr>\n",
       "    <tr>\n",
       "      <th>41727</th>\n",
       "      <td>0</td>\n",
       "      <td>[[[0.0], [0.0], [0.0], [0.0], [0.0], [0.0], [0...</td>\n",
       "    </tr>\n",
       "  </tbody>\n",
       "</table>\n",
       "</div>"
      ],
      "text/plain": [
       "       emotion                                             pixels\n",
       "41723        0  [[[0.0], [0.0], [0.0], [0.0], [0.0], [210.3774...\n",
       "41724        0  [[[0.0], [0.0], [0.0], [0.0], [0.0], [0.0], [0...\n",
       "41725        0  [[[0.0], [0.0], [0.0], [0.0], [0.0], [0.0], [0...\n",
       "41726        0  [[[0.0], [0.0], [0.0], [0.0], [0.0], [0.0], [0...\n",
       "41727        0  [[[0.0], [0.0], [0.0], [0.0], [0.0], [0.0], [0..."
      ]
     },
     "execution_count": 23,
     "metadata": {},
     "output_type": "execute_result"
    }
   ],
   "source": [
    "df.tail()"
   ]
  },
  {
   "cell_type": "code",
   "execution_count": 24,
   "metadata": {},
   "outputs": [
    {
     "data": {
      "text/html": [
       "<div>\n",
       "<style scoped>\n",
       "    .dataframe tbody tr th:only-of-type {\n",
       "        vertical-align: middle;\n",
       "    }\n",
       "\n",
       "    .dataframe tbody tr th {\n",
       "        vertical-align: top;\n",
       "    }\n",
       "\n",
       "    .dataframe thead th {\n",
       "        text-align: right;\n",
       "    }\n",
       "</style>\n",
       "<table border=\"1\" class=\"dataframe\">\n",
       "  <thead>\n",
       "    <tr style=\"text-align: right;\">\n",
       "      <th></th>\n",
       "      <th>Count</th>\n",
       "      <th>Distribution</th>\n",
       "    </tr>\n",
       "  </thead>\n",
       "  <tbody>\n",
       "    <tr>\n",
       "      <th>Angry</th>\n",
       "      <td>9906</td>\n",
       "      <td>23.739456</td>\n",
       "    </tr>\n",
       "    <tr>\n",
       "      <th>Happy</th>\n",
       "      <td>8989</td>\n",
       "      <td>21.541890</td>\n",
       "    </tr>\n",
       "    <tr>\n",
       "      <th>Disgust</th>\n",
       "      <td>8752</td>\n",
       "      <td>20.973926</td>\n",
       "    </tr>\n",
       "    <tr>\n",
       "      <th>Sad</th>\n",
       "      <td>8004</td>\n",
       "      <td>19.181365</td>\n",
       "    </tr>\n",
       "    <tr>\n",
       "      <th>Fear</th>\n",
       "      <td>6077</td>\n",
       "      <td>14.563363</td>\n",
       "    </tr>\n",
       "  </tbody>\n",
       "</table>\n",
       "</div>"
      ],
      "text/plain": [
       "         Count  Distribution\n",
       "Angry     9906     23.739456\n",
       "Happy     8989     21.541890\n",
       "Disgust   8752     20.973926\n",
       "Sad       8004     19.181365\n",
       "Fear      6077     14.563363"
      ]
     },
     "execution_count": 24,
     "metadata": {},
     "output_type": "execute_result"
    }
   ],
   "source": [
    "emotions_labels = {0: 'Angry', 1: 'Disgust', 2: 'Fear', 3: 'Happy', 4: 'Sad'}\n",
    "\n",
    "a = df['emotion'].value_counts().rename('Count')\n",
    "b = (df['emotion'].value_counts(normalize=True) * 100).rename('Distribution')\n",
    "\n",
    "temp = pd.concat([a, b], axis=1)\n",
    "temp.index = [emotions_labels[i] for i in temp.index]\n",
    "temp"
   ]
  },
  {
   "cell_type": "code",
   "execution_count": 25,
   "metadata": {},
   "outputs": [
    {
     "data": {
      "image/png": "[encoded data removed]",
      "text/plain": [
       "<Figure size 640x480 with 1 Axes>"
      ]
     },
     "metadata": {},
     "output_type": "display_data"
    }
   ],
   "source": [
    "temp.plot(y='Count', kind='bar', legend=False,color='red')  # Plot the 'Count' column as a bar chart\n",
    "\n",
    "# Set the title and labels\n",
    "plt.title('Emotion Counts')\n",
    "plt.xlabel('Emotion')\n",
    "plt.ylabel('Count')\n",
    "\n",
    "# Display the plot\n",
    "plt.show()"
   ]
  },
  {
   "cell_type": "markdown",
   "metadata": {},
   "source": [
    "**<font color='blue'> Now, the dataset is well-balanced, ensuring that each class has a nearly equal number of samples. </font>**"
   ]
  },
  {
   "cell_type": "code",
   "execution_count": 31,
   "metadata": {},
   "outputs": [
    {
     "name": "stdout",
     "output_type": "stream",
     "text": [
      "(41728, 48, 48, 1) (41728, 5)\n"
     ]
    }
   ],
   "source": [
    "\n",
    "\n",
    "X = df['pixels']\n",
    "y = pd.get_dummies(df['emotion'])\n",
    "\n",
    "X = np.stack(X, axis = 0)\n",
    "X = X.reshape(df.shape[0], 48, 48, 1)\n",
    "\n",
    "print(X.shape, y.shape)"
   ]
  }
 ],
 "metadata": {
  "kernelspec": {
   "display_name": "base",
   "language": "python",
   "name": "python3"
  },
  "language_info": {
   "codemirror_mode": {
    "name": "ipython",
    "version": 3
   },
   "file_extension": ".py",
   "mimetype": "text/x-python",
   "name": "python",
   "nbconvert_exporter": "python",
   "pygments_lexer": "ipython3",
   "version": "3.10.9"
  },
  "orig_nbformat": 4
 },
 "nbformat": 4,
 "nbformat_minor": 2
}
